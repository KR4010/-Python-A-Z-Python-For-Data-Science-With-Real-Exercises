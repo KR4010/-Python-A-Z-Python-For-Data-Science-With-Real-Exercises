{
 "cells": [
  {
   "cell_type": "markdown",
   "id": "1f2b2a61",
   "metadata": {},
   "source": [
    "LLN - for a sample, mean tends to expected value when sample size tends to infinity. Here we are trying to prove LLN using normal distribution. Normal distribution is centered around 0 with a standard deviation of 1 and 68.2% of data lies between -1 and 1. We generate N random numbers and see the count of numbers between -1 and 1 as N increases. \n",
    "As per LLN, the mean should tend to expected value so (count/N) should tend to 68.2%"
   ]
  },
  {
   "cell_type": "code",
   "execution_count": 30,
   "id": "d5ee5a44",
   "metadata": {},
   "outputs": [],
   "source": [
    "import numpy\n",
    "from numpy.random import randn"
   ]
  },
  {
   "cell_type": "code",
   "execution_count": 38,
   "id": "250d1ec5",
   "metadata": {},
   "outputs": [
    {
     "name": "stdout",
     "output_type": "stream",
     "text": [
      "0.69\n"
     ]
    }
   ],
   "source": [
    "N = 100\n",
    "count = 0\n",
    "for i in randn(N):\n",
    "    if(i<1 and i>-1):\n",
    "        count = count + 1\n",
    "print(count/N)"
   ]
  },
  {
   "cell_type": "code",
   "execution_count": 39,
   "id": "7f2c1a97",
   "metadata": {},
   "outputs": [
    {
     "name": "stdout",
     "output_type": "stream",
     "text": [
      "0.689\n"
     ]
    }
   ],
   "source": [
    "N = 1000\n",
    "count = 0\n",
    "for i in randn(N):\n",
    "    if(i<1 and i>-1):\n",
    "        count = count + 1\n",
    "print(count/N)"
   ]
  },
  {
   "cell_type": "code",
   "execution_count": 40,
   "id": "ec7dc5d0",
   "metadata": {},
   "outputs": [
    {
     "name": "stdout",
     "output_type": "stream",
     "text": [
      "0.6863\n"
     ]
    }
   ],
   "source": [
    "N = 10000\n",
    "count = 0\n",
    "for i in randn(N):\n",
    "    if(i<1 and i>-1):\n",
    "        count = count + 1\n",
    "print(count/N)"
   ]
  },
  {
   "cell_type": "code",
   "execution_count": 41,
   "id": "f9328b6c",
   "metadata": {},
   "outputs": [
    {
     "name": "stdout",
     "output_type": "stream",
     "text": [
      "0.6819\n"
     ]
    }
   ],
   "source": [
    "N = 100000\n",
    "count = 0\n",
    "for i in randn(N):\n",
    "    if(i<1 and i>-1):\n",
    "        count = count + 1\n",
    "print(count/N)"
   ]
  },
  {
   "cell_type": "code",
   "execution_count": 42,
   "id": "b8a209bb",
   "metadata": {},
   "outputs": [
    {
     "name": "stdout",
     "output_type": "stream",
     "text": [
      "0.683196\n"
     ]
    }
   ],
   "source": [
    "N = 1000000\n",
    "count = 0\n",
    "for i in randn(N):\n",
    "    if(i<1 and i>-1):\n",
    "        count = count + 1\n",
    "print(count/N)"
   ]
  },
  {
   "cell_type": "code",
   "execution_count": 44,
   "id": "7096c359",
   "metadata": {},
   "outputs": [
    {
     "name": "stdout",
     "output_type": "stream",
     "text": [
      "0.6825201\n"
     ]
    }
   ],
   "source": [
    "N = 10000000\n",
    "counter = 0\n",
    "for i in randn(N):\n",
    "    if (i > -1 and i < 1):\n",
    "        counter = counter + 1\n",
    "print(counter / N)"
   ]
  },
  {
   "cell_type": "code",
   "execution_count": null,
   "id": "53aa7838",
   "metadata": {},
   "outputs": [],
   "source": []
  }
 ],
 "metadata": {
  "kernelspec": {
   "display_name": "Python 3 (ipykernel)",
   "language": "python",
   "name": "python3"
  },
  "language_info": {
   "codemirror_mode": {
    "name": "ipython",
    "version": 3
   },
   "file_extension": ".py",
   "mimetype": "text/x-python",
   "name": "python",
   "nbconvert_exporter": "python",
   "pygments_lexer": "ipython3",
   "version": "3.9.12"
  }
 },
 "nbformat": 4,
 "nbformat_minor": 5
}
